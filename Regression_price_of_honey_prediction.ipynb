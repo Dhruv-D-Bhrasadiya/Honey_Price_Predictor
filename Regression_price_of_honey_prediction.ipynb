{
  "cells": [
    {
      "cell_type": "markdown",
      "id": "ba929aba-31d2-4a7b-84b0-ff0f23f73828",
      "metadata": {
        "id": "ba929aba-31d2-4a7b-84b0-ff0f23f73828"
      },
      "source": [
        "# 1. All Imports"
      ]
    },
    {
      "cell_type": "code",
      "execution_count": null,
      "id": "79a576fb-65fa-4299-b64a-a29c301cfd72",
      "metadata": {
        "id": "79a576fb-65fa-4299-b64a-a29c301cfd72",
        "outputId": "59e55c59-9e00-4f6f-cbbd-a310738e36e3",
        "colab": {
          "base_uri": "https://localhost:8080/"
        }
      },
      "outputs": [
        {
          "output_type": "stream",
          "name": "stdout",
          "text": [
            "Requirement already satisfied: pandas in /usr/local/lib/python3.12/dist-packages (2.2.2)\n",
            "Requirement already satisfied: numpy in /usr/local/lib/python3.12/dist-packages (2.0.2)\n",
            "Requirement already satisfied: seaborn in /usr/local/lib/python3.12/dist-packages (0.13.2)\n",
            "Requirement already satisfied: joblib in /usr/local/lib/python3.12/dist-packages (1.5.2)\n",
            "Requirement already satisfied: scikit-learn in /usr/local/lib/python3.12/dist-packages (1.6.1)\n",
            "Collecting streamlit\n",
            "  Downloading streamlit-1.50.0-py3-none-any.whl.metadata (9.5 kB)\n",
            "Requirement already satisfied: python-dateutil>=2.8.2 in /usr/local/lib/python3.12/dist-packages (from pandas) (2.9.0.post0)\n",
            "Requirement already satisfied: pytz>=2020.1 in /usr/local/lib/python3.12/dist-packages (from pandas) (2025.2)\n",
            "Requirement already satisfied: tzdata>=2022.7 in /usr/local/lib/python3.12/dist-packages (from pandas) (2025.2)\n",
            "Requirement already satisfied: matplotlib!=3.6.1,>=3.4 in /usr/local/lib/python3.12/dist-packages (from seaborn) (3.10.0)\n",
            "Requirement already satisfied: scipy>=1.6.0 in /usr/local/lib/python3.12/dist-packages (from scikit-learn) (1.16.2)\n",
            "Requirement already satisfied: threadpoolctl>=3.1.0 in /usr/local/lib/python3.12/dist-packages (from scikit-learn) (3.6.0)\n",
            "Requirement already satisfied: altair!=5.4.0,!=5.4.1,<6,>=4.0 in /usr/local/lib/python3.12/dist-packages (from streamlit) (5.5.0)\n",
            "Requirement already satisfied: blinker<2,>=1.5.0 in /usr/local/lib/python3.12/dist-packages (from streamlit) (1.9.0)\n",
            "Requirement already satisfied: cachetools<7,>=4.0 in /usr/local/lib/python3.12/dist-packages (from streamlit) (5.5.2)\n",
            "Requirement already satisfied: click<9,>=7.0 in /usr/local/lib/python3.12/dist-packages (from streamlit) (8.3.0)\n",
            "Requirement already satisfied: packaging<26,>=20 in /usr/local/lib/python3.12/dist-packages (from streamlit) (25.0)\n",
            "Requirement already satisfied: pillow<12,>=7.1.0 in /usr/local/lib/python3.12/dist-packages (from streamlit) (11.3.0)\n",
            "Requirement already satisfied: protobuf<7,>=3.20 in /usr/local/lib/python3.12/dist-packages (from streamlit) (5.29.5)\n",
            "Requirement already satisfied: pyarrow>=7.0 in /usr/local/lib/python3.12/dist-packages (from streamlit) (18.1.0)\n",
            "Requirement already satisfied: requests<3,>=2.27 in /usr/local/lib/python3.12/dist-packages (from streamlit) (2.32.4)\n",
            "Requirement already satisfied: tenacity<10,>=8.1.0 in /usr/local/lib/python3.12/dist-packages (from streamlit) (8.5.0)\n",
            "Requirement already satisfied: toml<2,>=0.10.1 in /usr/local/lib/python3.12/dist-packages (from streamlit) (0.10.2)\n",
            "Requirement already satisfied: typing-extensions<5,>=4.4.0 in /usr/local/lib/python3.12/dist-packages (from streamlit) (4.15.0)\n",
            "Requirement already satisfied: watchdog<7,>=2.1.5 in /usr/local/lib/python3.12/dist-packages (from streamlit) (6.0.0)\n",
            "Requirement already satisfied: gitpython!=3.1.19,<4,>=3.0.7 in /usr/local/lib/python3.12/dist-packages (from streamlit) (3.1.45)\n",
            "Collecting pydeck<1,>=0.8.0b4 (from streamlit)\n",
            "  Downloading pydeck-0.9.1-py2.py3-none-any.whl.metadata (4.1 kB)\n",
            "Requirement already satisfied: tornado!=6.5.0,<7,>=6.0.3 in /usr/local/lib/python3.12/dist-packages (from streamlit) (6.4.2)\n",
            "Requirement already satisfied: jinja2 in /usr/local/lib/python3.12/dist-packages (from altair!=5.4.0,!=5.4.1,<6,>=4.0->streamlit) (3.1.6)\n",
            "Requirement already satisfied: jsonschema>=3.0 in /usr/local/lib/python3.12/dist-packages (from altair!=5.4.0,!=5.4.1,<6,>=4.0->streamlit) (4.25.1)\n",
            "Requirement already satisfied: narwhals>=1.14.2 in /usr/local/lib/python3.12/dist-packages (from altair!=5.4.0,!=5.4.1,<6,>=4.0->streamlit) (2.7.0)\n",
            "Requirement already satisfied: gitdb<5,>=4.0.1 in /usr/local/lib/python3.12/dist-packages (from gitpython!=3.1.19,<4,>=3.0.7->streamlit) (4.0.12)\n",
            "Requirement already satisfied: contourpy>=1.0.1 in /usr/local/lib/python3.12/dist-packages (from matplotlib!=3.6.1,>=3.4->seaborn) (1.3.3)\n",
            "Requirement already satisfied: cycler>=0.10 in /usr/local/lib/python3.12/dist-packages (from matplotlib!=3.6.1,>=3.4->seaborn) (0.12.1)\n",
            "Requirement already satisfied: fonttools>=4.22.0 in /usr/local/lib/python3.12/dist-packages (from matplotlib!=3.6.1,>=3.4->seaborn) (4.60.1)\n",
            "Requirement already satisfied: kiwisolver>=1.3.1 in /usr/local/lib/python3.12/dist-packages (from matplotlib!=3.6.1,>=3.4->seaborn) (1.4.9)\n",
            "Requirement already satisfied: pyparsing>=2.3.1 in /usr/local/lib/python3.12/dist-packages (from matplotlib!=3.6.1,>=3.4->seaborn) (3.2.5)\n",
            "Requirement already satisfied: six>=1.5 in /usr/local/lib/python3.12/dist-packages (from python-dateutil>=2.8.2->pandas) (1.17.0)\n",
            "Requirement already satisfied: charset_normalizer<4,>=2 in /usr/local/lib/python3.12/dist-packages (from requests<3,>=2.27->streamlit) (3.4.3)\n",
            "Requirement already satisfied: idna<4,>=2.5 in /usr/local/lib/python3.12/dist-packages (from requests<3,>=2.27->streamlit) (3.10)\n",
            "Requirement already satisfied: urllib3<3,>=1.21.1 in /usr/local/lib/python3.12/dist-packages (from requests<3,>=2.27->streamlit) (2.5.0)\n",
            "Requirement already satisfied: certifi>=2017.4.17 in /usr/local/lib/python3.12/dist-packages (from requests<3,>=2.27->streamlit) (2025.10.5)\n",
            "Requirement already satisfied: smmap<6,>=3.0.1 in /usr/local/lib/python3.12/dist-packages (from gitdb<5,>=4.0.1->gitpython!=3.1.19,<4,>=3.0.7->streamlit) (5.0.2)\n",
            "Requirement already satisfied: MarkupSafe>=2.0 in /usr/local/lib/python3.12/dist-packages (from jinja2->altair!=5.4.0,!=5.4.1,<6,>=4.0->streamlit) (3.0.3)\n",
            "Requirement already satisfied: attrs>=22.2.0 in /usr/local/lib/python3.12/dist-packages (from jsonschema>=3.0->altair!=5.4.0,!=5.4.1,<6,>=4.0->streamlit) (25.4.0)\n",
            "Requirement already satisfied: jsonschema-specifications>=2023.03.6 in /usr/local/lib/python3.12/dist-packages (from jsonschema>=3.0->altair!=5.4.0,!=5.4.1,<6,>=4.0->streamlit) (2025.9.1)\n",
            "Requirement already satisfied: referencing>=0.28.4 in /usr/local/lib/python3.12/dist-packages (from jsonschema>=3.0->altair!=5.4.0,!=5.4.1,<6,>=4.0->streamlit) (0.36.2)\n",
            "Requirement already satisfied: rpds-py>=0.7.1 in /usr/local/lib/python3.12/dist-packages (from jsonschema>=3.0->altair!=5.4.0,!=5.4.1,<6,>=4.0->streamlit) (0.27.1)\n",
            "Downloading streamlit-1.50.0-py3-none-any.whl (10.1 MB)\n",
            "\u001b[2K   \u001b[90m━━━━━━━━━━━━━━━━━━━━━━━━━━━━━━━━━━━━━━━━\u001b[0m \u001b[32m10.1/10.1 MB\u001b[0m \u001b[31m46.0 MB/s\u001b[0m eta \u001b[36m0:00:00\u001b[0m\n",
            "\u001b[?25hDownloading pydeck-0.9.1-py2.py3-none-any.whl (6.9 MB)\n",
            "\u001b[2K   \u001b[90m━━━━━━━━━━━━━━━━━━━━━━━━━━━━━━━━━━━━━━━━\u001b[0m \u001b[32m6.9/6.9 MB\u001b[0m \u001b[31m20.7 MB/s\u001b[0m eta \u001b[36m0:00:00\u001b[0m\n",
            "\u001b[?25hInstalling collected packages: pydeck, streamlit\n",
            "Successfully installed pydeck-0.9.1 streamlit-1.50.0\n"
          ]
        }
      ],
      "source": [
        "!pip install pandas numpy seaborn joblib scikit-learn streamlit"
      ]
    },
    {
      "cell_type": "code",
      "execution_count": null,
      "id": "5a15b96a-a048-4452-ae50-2da566e5b9fa",
      "metadata": {
        "id": "5a15b96a-a048-4452-ae50-2da566e5b9fa",
        "outputId": "14cf85fc-64c8-42f3-b77c-1beadbea2e95",
        "colab": {
          "base_uri": "https://localhost:8080/"
        }
      },
      "outputs": [
        {
          "output_type": "stream",
          "name": "stdout",
          "text": [
            "Requirement already satisfied: streamlit in /usr/local/lib/python3.12/dist-packages (1.50.0)\n",
            "Requirement already satisfied: altair!=5.4.0,!=5.4.1,<6,>=4.0 in /usr/local/lib/python3.12/dist-packages (from streamlit) (5.5.0)\n",
            "Requirement already satisfied: blinker<2,>=1.5.0 in /usr/local/lib/python3.12/dist-packages (from streamlit) (1.9.0)\n",
            "Requirement already satisfied: cachetools<7,>=4.0 in /usr/local/lib/python3.12/dist-packages (from streamlit) (5.5.2)\n",
            "Requirement already satisfied: click<9,>=7.0 in /usr/local/lib/python3.12/dist-packages (from streamlit) (8.3.0)\n",
            "Requirement already satisfied: numpy<3,>=1.23 in /usr/local/lib/python3.12/dist-packages (from streamlit) (2.0.2)\n",
            "Requirement already satisfied: packaging<26,>=20 in /usr/local/lib/python3.12/dist-packages (from streamlit) (25.0)\n",
            "Requirement already satisfied: pandas<3,>=1.4.0 in /usr/local/lib/python3.12/dist-packages (from streamlit) (2.2.2)\n",
            "Requirement already satisfied: pillow<12,>=7.1.0 in /usr/local/lib/python3.12/dist-packages (from streamlit) (11.3.0)\n",
            "Requirement already satisfied: protobuf<7,>=3.20 in /usr/local/lib/python3.12/dist-packages (from streamlit) (5.29.5)\n",
            "Requirement already satisfied: pyarrow>=7.0 in /usr/local/lib/python3.12/dist-packages (from streamlit) (18.1.0)\n",
            "Requirement already satisfied: requests<3,>=2.27 in /usr/local/lib/python3.12/dist-packages (from streamlit) (2.32.4)\n",
            "Requirement already satisfied: tenacity<10,>=8.1.0 in /usr/local/lib/python3.12/dist-packages (from streamlit) (8.5.0)\n",
            "Requirement already satisfied: toml<2,>=0.10.1 in /usr/local/lib/python3.12/dist-packages (from streamlit) (0.10.2)\n",
            "Requirement already satisfied: typing-extensions<5,>=4.4.0 in /usr/local/lib/python3.12/dist-packages (from streamlit) (4.15.0)\n",
            "Requirement already satisfied: watchdog<7,>=2.1.5 in /usr/local/lib/python3.12/dist-packages (from streamlit) (6.0.0)\n",
            "Requirement already satisfied: gitpython!=3.1.19,<4,>=3.0.7 in /usr/local/lib/python3.12/dist-packages (from streamlit) (3.1.45)\n",
            "Requirement already satisfied: pydeck<1,>=0.8.0b4 in /usr/local/lib/python3.12/dist-packages (from streamlit) (0.9.1)\n",
            "Requirement already satisfied: tornado!=6.5.0,<7,>=6.0.3 in /usr/local/lib/python3.12/dist-packages (from streamlit) (6.4.2)\n",
            "Requirement already satisfied: jinja2 in /usr/local/lib/python3.12/dist-packages (from altair!=5.4.0,!=5.4.1,<6,>=4.0->streamlit) (3.1.6)\n",
            "Requirement already satisfied: jsonschema>=3.0 in /usr/local/lib/python3.12/dist-packages (from altair!=5.4.0,!=5.4.1,<6,>=4.0->streamlit) (4.25.1)\n",
            "Requirement already satisfied: narwhals>=1.14.2 in /usr/local/lib/python3.12/dist-packages (from altair!=5.4.0,!=5.4.1,<6,>=4.0->streamlit) (2.7.0)\n",
            "Requirement already satisfied: gitdb<5,>=4.0.1 in /usr/local/lib/python3.12/dist-packages (from gitpython!=3.1.19,<4,>=3.0.7->streamlit) (4.0.12)\n",
            "Requirement already satisfied: python-dateutil>=2.8.2 in /usr/local/lib/python3.12/dist-packages (from pandas<3,>=1.4.0->streamlit) (2.9.0.post0)\n",
            "Requirement already satisfied: pytz>=2020.1 in /usr/local/lib/python3.12/dist-packages (from pandas<3,>=1.4.0->streamlit) (2025.2)\n",
            "Requirement already satisfied: tzdata>=2022.7 in /usr/local/lib/python3.12/dist-packages (from pandas<3,>=1.4.0->streamlit) (2025.2)\n",
            "Requirement already satisfied: charset_normalizer<4,>=2 in /usr/local/lib/python3.12/dist-packages (from requests<3,>=2.27->streamlit) (3.4.3)\n",
            "Requirement already satisfied: idna<4,>=2.5 in /usr/local/lib/python3.12/dist-packages (from requests<3,>=2.27->streamlit) (3.10)\n",
            "Requirement already satisfied: urllib3<3,>=1.21.1 in /usr/local/lib/python3.12/dist-packages (from requests<3,>=2.27->streamlit) (2.5.0)\n",
            "Requirement already satisfied: certifi>=2017.4.17 in /usr/local/lib/python3.12/dist-packages (from requests<3,>=2.27->streamlit) (2025.10.5)\n",
            "Requirement already satisfied: smmap<6,>=3.0.1 in /usr/local/lib/python3.12/dist-packages (from gitdb<5,>=4.0.1->gitpython!=3.1.19,<4,>=3.0.7->streamlit) (5.0.2)\n",
            "Requirement already satisfied: MarkupSafe>=2.0 in /usr/local/lib/python3.12/dist-packages (from jinja2->altair!=5.4.0,!=5.4.1,<6,>=4.0->streamlit) (3.0.3)\n",
            "Requirement already satisfied: attrs>=22.2.0 in /usr/local/lib/python3.12/dist-packages (from jsonschema>=3.0->altair!=5.4.0,!=5.4.1,<6,>=4.0->streamlit) (25.4.0)\n",
            "Requirement already satisfied: jsonschema-specifications>=2023.03.6 in /usr/local/lib/python3.12/dist-packages (from jsonschema>=3.0->altair!=5.4.0,!=5.4.1,<6,>=4.0->streamlit) (2025.9.1)\n",
            "Requirement already satisfied: referencing>=0.28.4 in /usr/local/lib/python3.12/dist-packages (from jsonschema>=3.0->altair!=5.4.0,!=5.4.1,<6,>=4.0->streamlit) (0.36.2)\n",
            "Requirement already satisfied: rpds-py>=0.7.1 in /usr/local/lib/python3.12/dist-packages (from jsonschema>=3.0->altair!=5.4.0,!=5.4.1,<6,>=4.0->streamlit) (0.27.1)\n",
            "Requirement already satisfied: six>=1.5 in /usr/local/lib/python3.12/dist-packages (from python-dateutil>=2.8.2->pandas<3,>=1.4.0->streamlit) (1.17.0)\n"
          ]
        }
      ],
      "source": [
        "!pip install streamlit"
      ]
    },
    {
      "cell_type": "code",
      "execution_count": null,
      "id": "bb2ab3b5-f2fa-4fcc-85f9-4f723fe7fdb5",
      "metadata": {
        "id": "bb2ab3b5-f2fa-4fcc-85f9-4f723fe7fdb5"
      },
      "outputs": [],
      "source": [
        "import pandas as pd\n",
        "import numpy as np\n",
        "import seaborn as sns\n",
        "import matplotlib.pyplot as plt\n",
        "import joblib\n",
        "import streamlit as st\n",
        "\n",
        "from sklearn.model_selection import train_test_split\n",
        "from sklearn.linear_model import Ridge\n",
        "from sklearn.ensemble import RandomForestRegressor, GradientBoostingRegressor\n",
        "from sklearn.metrics import r2_score, mean_absolute_error"
      ]
    },
    {
      "cell_type": "markdown",
      "id": "f18692a9-a12d-4bf4-a8ce-e53c64a29ed4",
      "metadata": {
        "id": "f18692a9-a12d-4bf4-a8ce-e53c64a29ed4"
      },
      "source": [
        "**Set plot style**"
      ]
    },
    {
      "cell_type": "code",
      "execution_count": null,
      "id": "4b4e105d-3480-4464-881e-df5cb5395ee5",
      "metadata": {
        "scrolled": true,
        "id": "4b4e105d-3480-4464-881e-df5cb5395ee5",
        "outputId": "b99422db-d8d5-4fe6-f09e-7423c24a67b8",
        "colab": {
          "base_uri": "https://localhost:8080/"
        }
      },
      "outputs": [
        {
          "output_type": "stream",
          "name": "stdout",
          "text": [
            "Libraries imported successfully!\n"
          ]
        }
      ],
      "source": [
        "sns.set_style('whitegrid')\n",
        "print(\"Libraries imported successfully!\")"
      ]
    },
    {
      "cell_type": "markdown",
      "id": "80e1d940-ff29-4212-836b-de3a44c85a16",
      "metadata": {
        "id": "80e1d940-ff29-4212-836b-de3a44c85a16"
      },
      "source": [
        "# 2. Load your data"
      ]
    },
    {
      "cell_type": "markdown",
      "id": "39901198-e660-460c-b536-1881c770f831",
      "metadata": {
        "id": "39901198-e660-460c-b536-1881c770f831"
      },
      "source": [
        "**This cell loads your 'honey_purity_dataset.csv' file.**"
      ]
    },
    {
      "cell_type": "code",
      "execution_count": null,
      "id": "b4a45969-c8e6-4be0-a4b0-3b0831ec24b3",
      "metadata": {
        "id": "b4a45969-c8e6-4be0-a4b0-3b0831ec24b3",
        "outputId": "44767a40-263e-45f6-9fed-e4db1e5bc567"
      },
      "outputs": [
        {
          "name": "stdout",
          "output_type": "stream",
          "text": [
            "✅ 'honey_purity_dataset.csv' loaded successfully.\n"
          ]
        }
      ],
      "source": [
        "try:\n",
        "    df = pd.read_csv('honey_purity_dataset.csv')\n",
        "    print(\"✅ 'honey_purity_dataset.csv' loaded successfully.\")\n",
        "except FileNotFoundError:\n",
        "    print(\"❌ Error: 'honey_purity_dataset.csv' not found.\")\n",
        "    print(\"Please make sure the CSV file is in the same directory as this notebook.\")"
      ]
    },
    {
      "cell_type": "markdown",
      "id": "264f127d-836f-40c3-8640-3357592d2cb7",
      "metadata": {
        "id": "264f127d-836f-40c3-8640-3357592d2cb7"
      },
      "source": [
        "**Explore the Data**"
      ]
    },
    {
      "cell_type": "markdown",
      "id": "48cec6ce-5d14-48a1-9f94-758429540037",
      "metadata": {
        "id": "48cec6ce-5d14-48a1-9f94-758429540037"
      },
      "source": [
        "## **Correlation Heatmap**  \n"
      ]
    },
    {
      "cell_type": "code",
      "execution_count": null,
      "id": "e1330d81-206e-4ae7-8ddb-a5f7d8be0eff",
      "metadata": {
        "id": "e1330d81-206e-4ae7-8ddb-a5f7d8be0eff",
        "outputId": "15daa66e-664a-4b0e-bc31-59693618376b"
      },
      "outputs": [
        {
          "name": "stdout",
          "output_type": "stream",
          "text": [
            "\n",
            "Data Head:\n"
          ]
        },
        {
          "data": {
            "text/html": [
              "<div>\n",
              "<style scoped>\n",
              "    .dataframe tbody tr th:only-of-type {\n",
              "        vertical-align: middle;\n",
              "    }\n",
              "\n",
              "    .dataframe tbody tr th {\n",
              "        vertical-align: top;\n",
              "    }\n",
              "\n",
              "    .dataframe thead th {\n",
              "        text-align: right;\n",
              "    }\n",
              "</style>\n",
              "<table border=\"1\" class=\"dataframe\">\n",
              "  <thead>\n",
              "    <tr style=\"text-align: right;\">\n",
              "      <th></th>\n",
              "      <th>CS</th>\n",
              "      <th>Density</th>\n",
              "      <th>WC</th>\n",
              "      <th>pH</th>\n",
              "      <th>EC</th>\n",
              "      <th>F</th>\n",
              "      <th>G</th>\n",
              "      <th>Pollen_analysis</th>\n",
              "      <th>Viscosity</th>\n",
              "      <th>Purity</th>\n",
              "      <th>Price</th>\n",
              "    </tr>\n",
              "  </thead>\n",
              "  <tbody>\n",
              "    <tr>\n",
              "      <th>0</th>\n",
              "      <td>2.81</td>\n",
              "      <td>1.75</td>\n",
              "      <td>23.04</td>\n",
              "      <td>6.29</td>\n",
              "      <td>0.76</td>\n",
              "      <td>39.02</td>\n",
              "      <td>33.63</td>\n",
              "      <td>Blueberry</td>\n",
              "      <td>4844.50</td>\n",
              "      <td>0.68</td>\n",
              "      <td>645.24</td>\n",
              "    </tr>\n",
              "    <tr>\n",
              "      <th>1</th>\n",
              "      <td>9.47</td>\n",
              "      <td>1.82</td>\n",
              "      <td>17.50</td>\n",
              "      <td>7.20</td>\n",
              "      <td>0.71</td>\n",
              "      <td>38.15</td>\n",
              "      <td>34.41</td>\n",
              "      <td>Alfalfa</td>\n",
              "      <td>6689.02</td>\n",
              "      <td>0.89</td>\n",
              "      <td>385.85</td>\n",
              "    </tr>\n",
              "    <tr>\n",
              "      <th>2</th>\n",
              "      <td>4.61</td>\n",
              "      <td>1.84</td>\n",
              "      <td>23.72</td>\n",
              "      <td>7.31</td>\n",
              "      <td>0.80</td>\n",
              "      <td>27.47</td>\n",
              "      <td>34.36</td>\n",
              "      <td>Chestnut</td>\n",
              "      <td>6883.60</td>\n",
              "      <td>0.66</td>\n",
              "      <td>639.64</td>\n",
              "    </tr>\n",
              "    <tr>\n",
              "      <th>3</th>\n",
              "      <td>1.77</td>\n",
              "      <td>1.40</td>\n",
              "      <td>16.61</td>\n",
              "      <td>4.01</td>\n",
              "      <td>0.78</td>\n",
              "      <td>31.52</td>\n",
              "      <td>28.15</td>\n",
              "      <td>Blueberry</td>\n",
              "      <td>7167.56</td>\n",
              "      <td>1.00</td>\n",
              "      <td>946.46</td>\n",
              "    </tr>\n",
              "    <tr>\n",
              "      <th>4</th>\n",
              "      <td>6.11</td>\n",
              "      <td>1.25</td>\n",
              "      <td>19.63</td>\n",
              "      <td>4.82</td>\n",
              "      <td>0.90</td>\n",
              "      <td>29.65</td>\n",
              "      <td>42.52</td>\n",
              "      <td>Alfalfa</td>\n",
              "      <td>5125.44</td>\n",
              "      <td>1.00</td>\n",
              "      <td>432.62</td>\n",
              "    </tr>\n",
              "  </tbody>\n",
              "</table>\n",
              "</div>"
            ],
            "text/plain": [
              "     CS  Density     WC    pH    EC      F      G Pollen_analysis  Viscosity  \\\n",
              "0  2.81     1.75  23.04  6.29  0.76  39.02  33.63       Blueberry    4844.50   \n",
              "1  9.47     1.82  17.50  7.20  0.71  38.15  34.41         Alfalfa    6689.02   \n",
              "2  4.61     1.84  23.72  7.31  0.80  27.47  34.36        Chestnut    6883.60   \n",
              "3  1.77     1.40  16.61  4.01  0.78  31.52  28.15       Blueberry    7167.56   \n",
              "4  6.11     1.25  19.63  4.82  0.90  29.65  42.52         Alfalfa    5125.44   \n",
              "\n",
              "   Purity   Price  \n",
              "0    0.68  645.24  \n",
              "1    0.89  385.85  \n",
              "2    0.66  639.64  \n",
              "3    1.00  946.46  \n",
              "4    1.00  432.62  "
            ]
          },
          "metadata": {},
          "output_type": "display_data"
        },
        {
          "name": "stdout",
          "output_type": "stream",
          "text": [
            "\n",
            "Data Info:\n",
            "<class 'pandas.core.frame.DataFrame'>\n",
            "RangeIndex: 247903 entries, 0 to 247902\n",
            "Data columns (total 11 columns):\n",
            " #   Column           Non-Null Count   Dtype  \n",
            "---  ------           --------------   -----  \n",
            " 0   CS               247903 non-null  float64\n",
            " 1   Density          247903 non-null  float64\n",
            " 2   WC               247903 non-null  float64\n",
            " 3   pH               247903 non-null  float64\n",
            " 4   EC               247903 non-null  float64\n",
            " 5   F                247903 non-null  float64\n",
            " 6   G                247903 non-null  float64\n",
            " 7   Pollen_analysis  247903 non-null  object \n",
            " 8   Viscosity        247903 non-null  float64\n",
            " 9   Purity           247903 non-null  float64\n",
            " 10  Price            247903 non-null  float64\n",
            "dtypes: float64(10), object(1)\n",
            "memory usage: 20.8+ MB\n",
            "\n",
            "Data Description:\n"
          ]
        },
        {
          "data": {
            "text/html": [
              "<div>\n",
              "<style scoped>\n",
              "    .dataframe tbody tr th:only-of-type {\n",
              "        vertical-align: middle;\n",
              "    }\n",
              "\n",
              "    .dataframe tbody tr th {\n",
              "        vertical-align: top;\n",
              "    }\n",
              "\n",
              "    .dataframe thead th {\n",
              "        text-align: right;\n",
              "    }\n",
              "</style>\n",
              "<table border=\"1\" class=\"dataframe\">\n",
              "  <thead>\n",
              "    <tr style=\"text-align: right;\">\n",
              "      <th></th>\n",
              "      <th>CS</th>\n",
              "      <th>Density</th>\n",
              "      <th>WC</th>\n",
              "      <th>pH</th>\n",
              "      <th>EC</th>\n",
              "      <th>F</th>\n",
              "      <th>G</th>\n",
              "      <th>Viscosity</th>\n",
              "      <th>Purity</th>\n",
              "      <th>Price</th>\n",
              "    </tr>\n",
              "  </thead>\n",
              "  <tbody>\n",
              "    <tr>\n",
              "      <th>count</th>\n",
              "      <td>247903.000000</td>\n",
              "      <td>247903.000000</td>\n",
              "      <td>247903.000000</td>\n",
              "      <td>247903.000000</td>\n",
              "      <td>247903.000000</td>\n",
              "      <td>247903.000000</td>\n",
              "      <td>247903.000000</td>\n",
              "      <td>247903.000000</td>\n",
              "      <td>247903.000000</td>\n",
              "      <td>247903.000000</td>\n",
              "    </tr>\n",
              "    <tr>\n",
              "      <th>mean</th>\n",
              "      <td>5.500259</td>\n",
              "      <td>1.535523</td>\n",
              "      <td>18.502625</td>\n",
              "      <td>4.996047</td>\n",
              "      <td>0.799974</td>\n",
              "      <td>34.970573</td>\n",
              "      <td>32.501006</td>\n",
              "      <td>5752.893888</td>\n",
              "      <td>0.824471</td>\n",
              "      <td>594.807644</td>\n",
              "    </tr>\n",
              "    <tr>\n",
              "      <th>std</th>\n",
              "      <td>2.593947</td>\n",
              "      <td>0.187824</td>\n",
              "      <td>3.748635</td>\n",
              "      <td>1.444060</td>\n",
              "      <td>0.057911</td>\n",
              "      <td>8.655898</td>\n",
              "      <td>7.226290</td>\n",
              "      <td>2455.739903</td>\n",
              "      <td>0.139417</td>\n",
              "      <td>233.627972</td>\n",
              "    </tr>\n",
              "    <tr>\n",
              "      <th>min</th>\n",
              "      <td>1.000000</td>\n",
              "      <td>1.210000</td>\n",
              "      <td>12.000000</td>\n",
              "      <td>2.500000</td>\n",
              "      <td>0.700000</td>\n",
              "      <td>20.000000</td>\n",
              "      <td>20.000000</td>\n",
              "      <td>1500.050000</td>\n",
              "      <td>0.610000</td>\n",
              "      <td>128.720000</td>\n",
              "    </tr>\n",
              "    <tr>\n",
              "      <th>25%</th>\n",
              "      <td>3.260000</td>\n",
              "      <td>1.370000</td>\n",
              "      <td>15.260000</td>\n",
              "      <td>3.750000</td>\n",
              "      <td>0.750000</td>\n",
              "      <td>27.460000</td>\n",
              "      <td>26.230000</td>\n",
              "      <td>3627.880000</td>\n",
              "      <td>0.660000</td>\n",
              "      <td>433.000000</td>\n",
              "    </tr>\n",
              "    <tr>\n",
              "      <th>50%</th>\n",
              "      <td>5.500000</td>\n",
              "      <td>1.540000</td>\n",
              "      <td>18.510000</td>\n",
              "      <td>4.990000</td>\n",
              "      <td>0.800000</td>\n",
              "      <td>34.970000</td>\n",
              "      <td>32.490000</td>\n",
              "      <td>5753.770000</td>\n",
              "      <td>0.820000</td>\n",
              "      <td>612.960000</td>\n",
              "    </tr>\n",
              "    <tr>\n",
              "      <th>75%</th>\n",
              "      <td>7.740000</td>\n",
              "      <td>1.700000</td>\n",
              "      <td>21.750000</td>\n",
              "      <td>6.250000</td>\n",
              "      <td>0.850000</td>\n",
              "      <td>42.470000</td>\n",
              "      <td>38.760000</td>\n",
              "      <td>7886.650000</td>\n",
              "      <td>0.970000</td>\n",
              "      <td>770.220000</td>\n",
              "    </tr>\n",
              "    <tr>\n",
              "      <th>max</th>\n",
              "      <td>10.000000</td>\n",
              "      <td>1.860000</td>\n",
              "      <td>25.000000</td>\n",
              "      <td>7.500000</td>\n",
              "      <td>0.900000</td>\n",
              "      <td>50.000000</td>\n",
              "      <td>45.000000</td>\n",
              "      <td>9999.970000</td>\n",
              "      <td>1.000000</td>\n",
              "      <td>976.690000</td>\n",
              "    </tr>\n",
              "  </tbody>\n",
              "</table>\n",
              "</div>"
            ],
            "text/plain": [
              "                  CS        Density             WC             pH  \\\n",
              "count  247903.000000  247903.000000  247903.000000  247903.000000   \n",
              "mean        5.500259       1.535523      18.502625       4.996047   \n",
              "std         2.593947       0.187824       3.748635       1.444060   \n",
              "min         1.000000       1.210000      12.000000       2.500000   \n",
              "25%         3.260000       1.370000      15.260000       3.750000   \n",
              "50%         5.500000       1.540000      18.510000       4.990000   \n",
              "75%         7.740000       1.700000      21.750000       6.250000   \n",
              "max        10.000000       1.860000      25.000000       7.500000   \n",
              "\n",
              "                  EC              F              G      Viscosity  \\\n",
              "count  247903.000000  247903.000000  247903.000000  247903.000000   \n",
              "mean        0.799974      34.970573      32.501006    5752.893888   \n",
              "std         0.057911       8.655898       7.226290    2455.739903   \n",
              "min         0.700000      20.000000      20.000000    1500.050000   \n",
              "25%         0.750000      27.460000      26.230000    3627.880000   \n",
              "50%         0.800000      34.970000      32.490000    5753.770000   \n",
              "75%         0.850000      42.470000      38.760000    7886.650000   \n",
              "max         0.900000      50.000000      45.000000    9999.970000   \n",
              "\n",
              "              Purity          Price  \n",
              "count  247903.000000  247903.000000  \n",
              "mean        0.824471     594.807644  \n",
              "std         0.139417     233.627972  \n",
              "min         0.610000     128.720000  \n",
              "25%         0.660000     433.000000  \n",
              "50%         0.820000     612.960000  \n",
              "75%         0.970000     770.220000  \n",
              "max         1.000000     976.690000  "
            ]
          },
          "metadata": {},
          "output_type": "display_data"
        },
        {
          "name": "stdout",
          "output_type": "stream",
          "text": [
            "\n",
            "Correlation Matrix Heatmap:\n"
          ]
        },
        {
          "data": {
            "image/png": "[encoded data removed]",
            "text/plain": [
              "<Figure size 1200x1000 with 2 Axes>"
            ]
          },
          "metadata": {},
          "output_type": "display_data"
        }
      ],
      "source": [
        "if 'df' in locals():\n",
        "    # Display the first 5 rows\n",
        "    print(\"\\nData Head:\")\n",
        "    display(df.head())\n",
        "\n",
        "    # Display data types and non-null values\n",
        "    print(\"\\nData Info:\")\n",
        "    df.info()\n",
        "\n",
        "    # Display summary statistics for numerical columns\n",
        "    print(\"\\nData Description:\")\n",
        "    display(df.describe())\n",
        "\n",
        "    # --- Correlation Matrix Visualization ---\n",
        "    print(\"\\nCorrelation Matrix Heatmap:\")\n",
        "    plt.figure(figsize=(12, 10))\n",
        "    # Ensure only numeric columns are used for correlation\n",
        "    numeric_df = df.select_dtypes(include=np.number)\n",
        "    correlation_matrix = numeric_df.corr()\n",
        "    sns.heatmap(correlation_matrix, annot=True, fmt='.2f', cmap='coolwarm', linewidths=0.5)\n",
        "    plt.title('Correlation Matrix of Honey Features')\n",
        "    plt.show()"
      ]
    },
    {
      "cell_type": "markdown",
      "id": "3de094be-5001-4660-97b7-935ff89d486f",
      "metadata": {
        "id": "3de094be-5001-4660-97b7-935ff89d486f"
      },
      "source": [
        "\n",
        "**• `Price` shows strong positive correlation with `Purity`  and `Viscosity` **  \n",
        "**• `pH` is weakly correlated with `Price`**  \n",
        "**• `F` and `G` have moderate correlation**\n"
      ]
    },
    {
      "cell_type": "markdown",
      "id": "4fc45e90-6fab-4b07-86aa-287d7dc9b45d",
      "metadata": {
        "id": "4fc45e90-6fab-4b07-86aa-287d7dc9b45d"
      },
      "source": [
        "Define Target and Features"
      ]
    },
    {
      "cell_type": "markdown",
      "id": "7ac311a9-39e8-4c6d-b351-7239934bcfbf",
      "metadata": {
        "id": "7ac311a9-39e8-4c6d-b351-7239934bcfbf"
      },
      "source": [
        "## **Box Plot of Price by Pollen Type**  \n"
      ]
    },
    {
      "cell_type": "code",
      "execution_count": null,
      "id": "22473ebd-b3cb-4c6d-8901-d3c344899764",
      "metadata": {
        "id": "22473ebd-b3cb-4c6d-8901-d3c344899764",
        "outputId": "d88804f4-45aa-459c-f1ae-8f66badf34ee"
      },
      "outputs": [
        {
          "data": {
            "image/png": "[encoded data removed]",
            "text/plain": [
              "<Figure size 1000x600 with 1 Axes>"
            ]
          },
          "metadata": {},
          "output_type": "display_data"
        }
      ],
      "source": [
        "import seaborn as sns\n",
        "import matplotlib.pyplot as plt\n",
        "\n",
        "# Set figure size\n",
        "plt.figure(figsize=(10, 6))\n",
        "\n",
        "# Box plot for all numerical features\n",
        "sns.boxplot(data=df)\n",
        "plt.title('Box Plot of Honey Dataset Features')\n",
        "plt.xticks(rotation=45)\n",
        "plt.grid(True)\n",
        "plt.tight_layout()\n",
        "plt.show()\n"
      ]
    },
    {
      "cell_type": "markdown",
      "id": "aa70c6ac-15a6-46dc-9818-7f3fa526249b",
      "metadata": {
        "id": "aa70c6ac-15a6-46dc-9818-7f3fa526249b"
      },
      "source": [
        "**•`Chestnut` and `Blueberry` pollen types have higher median prices**  \n",
        "**•`Alfalfa` shows more price variation and outliers**"
      ]
    },
    {
      "cell_type": "code",
      "execution_count": null,
      "id": "afde06a1-94cf-40f5-b28f-d99d1113f5a9",
      "metadata": {
        "id": "afde06a1-94cf-40f5-b28f-d99d1113f5a9"
      },
      "outputs": [],
      "source": [
        "TARGET = 'Price'\n",
        "X = df.drop(TARGET, axis=1)\n",
        "y = df[TARGET]"
      ]
    },
    {
      "cell_type": "markdown",
      "id": "49a6c855-239f-4813-a833-0d877c3c170a",
      "metadata": {
        "id": "49a6c855-239f-4813-a833-0d877c3c170a"
      },
      "source": [
        "One-Hot Encode the 'Pollen_analysis' column\n",
        "\n",
        "This converts the text-based honey types into a numerical format for the model."
      ]
    },
    {
      "cell_type": "code",
      "execution_count": null,
      "id": "fa65fc96-42c2-4697-9993-dcf14f444996",
      "metadata": {
        "id": "fa65fc96-42c2-4697-9993-dcf14f444996",
        "outputId": "06361c6d-fde2-4f14-aca5-caa02ac75e85"
      },
      "outputs": [
        {
          "name": "stdout",
          "output_type": "stream",
          "text": [
            "Feature set shape after one-hot encoding: (247903, 27)\n",
            "Example of features after encoding:\n"
          ]
        },
        {
          "data": {
            "text/html": [
              "<div>\n",
              "<style scoped>\n",
              "    .dataframe tbody tr th:only-of-type {\n",
              "        vertical-align: middle;\n",
              "    }\n",
              "\n",
              "    .dataframe tbody tr th {\n",
              "        vertical-align: top;\n",
              "    }\n",
              "\n",
              "    .dataframe thead th {\n",
              "        text-align: right;\n",
              "    }\n",
              "</style>\n",
              "<table border=\"1\" class=\"dataframe\">\n",
              "  <thead>\n",
              "    <tr style=\"text-align: right;\">\n",
              "      <th></th>\n",
              "      <th>CS</th>\n",
              "      <th>Density</th>\n",
              "      <th>WC</th>\n",
              "      <th>pH</th>\n",
              "      <th>EC</th>\n",
              "      <th>F</th>\n",
              "      <th>G</th>\n",
              "      <th>Viscosity</th>\n",
              "      <th>Purity</th>\n",
              "      <th>Pollen_analysis_Alfalfa</th>\n",
              "      <th>...</th>\n",
              "      <th>Pollen_analysis_Heather</th>\n",
              "      <th>Pollen_analysis_Lavender</th>\n",
              "      <th>Pollen_analysis_Manuka</th>\n",
              "      <th>Pollen_analysis_Orange Blossom</th>\n",
              "      <th>Pollen_analysis_Rosemary</th>\n",
              "      <th>Pollen_analysis_Sage</th>\n",
              "      <th>Pollen_analysis_Sunflower</th>\n",
              "      <th>Pollen_analysis_Thyme</th>\n",
              "      <th>Pollen_analysis_Tupelo</th>\n",
              "      <th>Pollen_analysis_Wildflower</th>\n",
              "    </tr>\n",
              "  </thead>\n",
              "  <tbody>\n",
              "    <tr>\n",
              "      <th>0</th>\n",
              "      <td>2.81</td>\n",
              "      <td>1.75</td>\n",
              "      <td>23.04</td>\n",
              "      <td>6.29</td>\n",
              "      <td>0.76</td>\n",
              "      <td>39.02</td>\n",
              "      <td>33.63</td>\n",
              "      <td>4844.50</td>\n",
              "      <td>0.68</td>\n",
              "      <td>False</td>\n",
              "      <td>...</td>\n",
              "      <td>False</td>\n",
              "      <td>False</td>\n",
              "      <td>False</td>\n",
              "      <td>False</td>\n",
              "      <td>False</td>\n",
              "      <td>False</td>\n",
              "      <td>False</td>\n",
              "      <td>False</td>\n",
              "      <td>False</td>\n",
              "      <td>False</td>\n",
              "    </tr>\n",
              "    <tr>\n",
              "      <th>1</th>\n",
              "      <td>9.47</td>\n",
              "      <td>1.82</td>\n",
              "      <td>17.50</td>\n",
              "      <td>7.20</td>\n",
              "      <td>0.71</td>\n",
              "      <td>38.15</td>\n",
              "      <td>34.41</td>\n",
              "      <td>6689.02</td>\n",
              "      <td>0.89</td>\n",
              "      <td>True</td>\n",
              "      <td>...</td>\n",
              "      <td>False</td>\n",
              "      <td>False</td>\n",
              "      <td>False</td>\n",
              "      <td>False</td>\n",
              "      <td>False</td>\n",
              "      <td>False</td>\n",
              "      <td>False</td>\n",
              "      <td>False</td>\n",
              "      <td>False</td>\n",
              "      <td>False</td>\n",
              "    </tr>\n",
              "    <tr>\n",
              "      <th>2</th>\n",
              "      <td>4.61</td>\n",
              "      <td>1.84</td>\n",
              "      <td>23.72</td>\n",
              "      <td>7.31</td>\n",
              "      <td>0.80</td>\n",
              "      <td>27.47</td>\n",
              "      <td>34.36</td>\n",
              "      <td>6883.60</td>\n",
              "      <td>0.66</td>\n",
              "      <td>False</td>\n",
              "      <td>...</td>\n",
              "      <td>False</td>\n",
              "      <td>False</td>\n",
              "      <td>False</td>\n",
              "      <td>False</td>\n",
              "      <td>False</td>\n",
              "      <td>False</td>\n",
              "      <td>False</td>\n",
              "      <td>False</td>\n",
              "      <td>False</td>\n",
              "      <td>False</td>\n",
              "    </tr>\n",
              "    <tr>\n",
              "      <th>3</th>\n",
              "      <td>1.77</td>\n",
              "      <td>1.40</td>\n",
              "      <td>16.61</td>\n",
              "      <td>4.01</td>\n",
              "      <td>0.78</td>\n",
              "      <td>31.52</td>\n",
              "      <td>28.15</td>\n",
              "      <td>7167.56</td>\n",
              "      <td>1.00</td>\n",
              "      <td>False</td>\n",
              "      <td>...</td>\n",
              "      <td>False</td>\n",
              "      <td>False</td>\n",
              "      <td>False</td>\n",
              "      <td>False</td>\n",
              "      <td>False</td>\n",
              "      <td>False</td>\n",
              "      <td>False</td>\n",
              "      <td>False</td>\n",
              "      <td>False</td>\n",
              "      <td>False</td>\n",
              "    </tr>\n",
              "    <tr>\n",
              "      <th>4</th>\n",
              "      <td>6.11</td>\n",
              "      <td>1.25</td>\n",
              "      <td>19.63</td>\n",
              "      <td>4.82</td>\n",
              "      <td>0.90</td>\n",
              "      <td>29.65</td>\n",
              "      <td>42.52</td>\n",
              "      <td>5125.44</td>\n",
              "      <td>1.00</td>\n",
              "      <td>True</td>\n",
              "      <td>...</td>\n",
              "      <td>False</td>\n",
              "      <td>False</td>\n",
              "      <td>False</td>\n",
              "      <td>False</td>\n",
              "      <td>False</td>\n",
              "      <td>False</td>\n",
              "      <td>False</td>\n",
              "      <td>False</td>\n",
              "      <td>False</td>\n",
              "      <td>False</td>\n",
              "    </tr>\n",
              "  </tbody>\n",
              "</table>\n",
              "<p>5 rows × 27 columns</p>\n",
              "</div>"
            ],
            "text/plain": [
              "     CS  Density     WC    pH    EC      F      G  Viscosity  Purity  \\\n",
              "0  2.81     1.75  23.04  6.29  0.76  39.02  33.63    4844.50    0.68   \n",
              "1  9.47     1.82  17.50  7.20  0.71  38.15  34.41    6689.02    0.89   \n",
              "2  4.61     1.84  23.72  7.31  0.80  27.47  34.36    6883.60    0.66   \n",
              "3  1.77     1.40  16.61  4.01  0.78  31.52  28.15    7167.56    1.00   \n",
              "4  6.11     1.25  19.63  4.82  0.90  29.65  42.52    5125.44    1.00   \n",
              "\n",
              "   Pollen_analysis_Alfalfa  ...  Pollen_analysis_Heather  \\\n",
              "0                    False  ...                    False   \n",
              "1                     True  ...                    False   \n",
              "2                    False  ...                    False   \n",
              "3                    False  ...                    False   \n",
              "4                     True  ...                    False   \n",
              "\n",
              "   Pollen_analysis_Lavender  Pollen_analysis_Manuka  \\\n",
              "0                     False                   False   \n",
              "1                     False                   False   \n",
              "2                     False                   False   \n",
              "3                     False                   False   \n",
              "4                     False                   False   \n",
              "\n",
              "   Pollen_analysis_Orange Blossom  Pollen_analysis_Rosemary  \\\n",
              "0                           False                     False   \n",
              "1                           False                     False   \n",
              "2                           False                     False   \n",
              "3                           False                     False   \n",
              "4                           False                     False   \n",
              "\n",
              "   Pollen_analysis_Sage  Pollen_analysis_Sunflower  Pollen_analysis_Thyme  \\\n",
              "0                 False                      False                  False   \n",
              "1                 False                      False                  False   \n",
              "2                 False                      False                  False   \n",
              "3                 False                      False                  False   \n",
              "4                 False                      False                  False   \n",
              "\n",
              "   Pollen_analysis_Tupelo  Pollen_analysis_Wildflower  \n",
              "0                   False                       False  \n",
              "1                   False                       False  \n",
              "2                   False                       False  \n",
              "3                   False                       False  \n",
              "4                   False                       False  \n",
              "\n",
              "[5 rows x 27 columns]"
            ]
          },
          "metadata": {},
          "output_type": "display_data"
        }
      ],
      "source": [
        "X = pd.get_dummies(X, columns=['Pollen_analysis'], drop_first=True)\n",
        "\n",
        "print(\"Feature set shape after one-hot encoding:\", X.shape)\n",
        "print(\"Example of features after encoding:\")\n",
        "display(X.head())"
      ]
    },
    {
      "cell_type": "markdown",
      "id": "c29bda36-c336-47a5-9f2a-7acbcc529461",
      "metadata": {
        "id": "c29bda36-c336-47a5-9f2a-7acbcc529461"
      },
      "source": [
        "### Split the data into training and testing sets (80% train, 20% test)"
      ]
    },
    {
      "cell_type": "code",
      "execution_count": null,
      "id": "140daf5d-79ce-4db7-882e-8c772fb1c2a2",
      "metadata": {
        "id": "140daf5d-79ce-4db7-882e-8c772fb1c2a2"
      },
      "outputs": [],
      "source": [
        "X_train, X_test, y_train, y_test = train_test_split(X, y, test_size=0.2, random_state=42)"
      ]
    },
    {
      "cell_type": "markdown",
      "id": "cd67139d-810c-47cf-8591-e9eba3f1a480",
      "metadata": {
        "id": "cd67139d-810c-47cf-8591-e9eba3f1a480"
      },
      "source": [
        "Print info of dataloaders"
      ]
    },
    {
      "cell_type": "code",
      "execution_count": null,
      "id": "e36d549a-1a70-4bec-b508-c405176ff314",
      "metadata": {
        "id": "e36d549a-1a70-4bec-b508-c405176ff314"
      },
      "outputs": [],
      "source": [
        "print(f\"Training set size: {X_train.shape[0]} samples\")\n",
        "print(f\"Testing set size: {X_test.shape[0]} samples\")"
      ]
    },
    {
      "cell_type": "markdown",
      "id": "8a51566d-598d-4beb-acdc-4e16da647852",
      "metadata": {
        "id": "8a51566d-598d-4beb-acdc-4e16da647852"
      },
      "source": [
        "# Create the model"
      ]
    },
    {
      "cell_type": "markdown",
      "id": "18bb8258-04a1-4fac-876d-d093725300b9",
      "metadata": {
        "id": "18bb8258-04a1-4fac-876d-d093725300b9"
      },
      "source": [
        "Here we are using Ridge Regression, Random Forest and Gradient Boosting, we will pick the best performing model (also which is not overfitting)"
      ]
    },
    {
      "cell_type": "code",
      "execution_count": null,
      "id": "b7b52546-8919-4530-a2bc-d6e2cf764a52",
      "metadata": {
        "id": "b7b52546-8919-4530-a2bc-d6e2cf764a52"
      },
      "outputs": [],
      "source": [
        "# Define the models to be trained\n",
        "models = {\n",
        "    \"Ridge Regression\": Ridge(),\n",
        "    \"Random Forest\": RandomForestRegressor(n_estimators=100, random_state=42, n_jobs=-1),\n",
        "    \"Gradient Boosting\": GradientBoostingRegressor(n_estimators=100, random_state=42)\n",
        "}\n",
        "\n",
        "print(\"--- Model Training and Evaluation ---\")\n",
        "best_model = None\n",
        "best_r2 = -1\n",
        "best_model_name = \"\"\n",
        "\n",
        "results = []\n",
        "\n",
        "for name, model in models.items():\n",
        "    # Train the model\n",
        "    model.fit(X_train, y_train)\n",
        "\n",
        "    # Make predictions on the test set\n",
        "    y_pred = model.predict(X_test)\n",
        "\n",
        "    # Evaluate the model\n",
        "    r2 = r2_score(y_test, y_pred)\n",
        "    mae = mean_absolute_error(y_test, y_pred)\n",
        "\n",
        "    results.append({'Model': name, 'R-squared': r2, 'MAE': mae})\n",
        "\n",
        "    # Keep track of the best model based on R-squared\n",
        "    if 98 > r2:\n",
        "        best_r2 = r2\n",
        "        best_model = model\n",
        "        best_model_name = name"
      ]
    },
    {
      "cell_type": "markdown",
      "id": "6b038d8b-9c69-4c80-be63-22bd7c06a223",
      "metadata": {
        "id": "6b038d8b-9c69-4c80-be63-22bd7c06a223"
      },
      "source": [
        "Print results in a clean table"
      ]
    },
    {
      "cell_type": "code",
      "execution_count": null,
      "id": "2e99c841-ef39-4c6d-a82c-5aea9fd33a93",
      "metadata": {
        "id": "2e99c841-ef39-4c6d-a82c-5aea9fd33a93"
      },
      "outputs": [],
      "source": [
        "results_df = pd.DataFrame(results)\n",
        "print(\"\\n--- Evaluation Results ---\")\n",
        "display(results_df.sort_values(by='R-squared', ascending=False))\n",
        "\n",
        "print(f\"\\n🏆 Best performing model is '{best_model_name}' with an R-squared of {best_r2:.4f}\")"
      ]
    },
    {
      "cell_type": "markdown",
      "id": "8124b7b0-cb3a-4f5e-89b8-9ce16ff510ea",
      "metadata": {
        "id": "8124b7b0-cb3a-4f5e-89b8-9ce16ff510ea"
      },
      "source": [
        "### Save the Best Model"
      ]
    },
    {
      "cell_type": "code",
      "execution_count": null,
      "id": "0c3a5292-fd17-4d05-9b7f-58227813763b",
      "metadata": {
        "id": "0c3a5292-fd17-4d05-9b7f-58227813763b"
      },
      "outputs": [],
      "source": [
        "joblib.dump(best_model, 'best_model.pkl')\n",
        "print(f\"✅ Best model ('{best_model_name}') saved to 'best_model.pkl'\")"
      ]
    },
    {
      "cell_type": "markdown",
      "id": "f9ce61e1-693e-4bbf-8a6e-ec93496bf62e",
      "metadata": {
        "id": "f9ce61e1-693e-4bbf-8a6e-ec93496bf62e"
      },
      "source": [
        "Save the Column Order\n",
        "\n",
        "This is CRUCIAL for ensuring the app's input matches the model's expectations."
      ]
    },
    {
      "cell_type": "code",
      "execution_count": null,
      "id": "9c587e58-bc67-43b5-bdbd-711867951d05",
      "metadata": {
        "id": "9c587e58-bc67-43b5-bdbd-711867951d05"
      },
      "outputs": [],
      "source": [
        "model_columns = X.columns\n",
        "joblib.dump(model_columns, 'model_columns.pkl')\n",
        "print(f\"✅ Model columns saved to 'model_columns.pkl'\")"
      ]
    },
    {
      "cell_type": "markdown",
      "id": "bc632d43-e0d6-4eef-95e6-f6382ce58bd6",
      "metadata": {
        "id": "bc632d43-e0d6-4eef-95e6-f6382ce58bd6"
      },
      "source": [
        "Save the List of Pollen Types for the App's Dropdown Menu\n",
        "\n",
        "This makes the app adaptable to the specific honey types in your dataset."
      ]
    },
    {
      "cell_type": "code",
      "execution_count": null,
      "id": "1a38048a-dd18-49b2-a2c7-749d1831fc4f",
      "metadata": {
        "id": "1a38048a-dd18-49b2-a2c7-749d1831fc4f"
      },
      "outputs": [],
      "source": [
        "pollen_types_list = sorted(df['Pollen_analysis'].unique().tolist())\n",
        "joblib.dump(pollen_types_list, 'pollen_types.pkl')\n",
        "print(f\"✅ List of {len(pollen_types_list)} pollen types saved to 'pollen_types.pkl'\")"
      ]
    },
    {
      "cell_type": "code",
      "execution_count": null,
      "id": "4136f97a-c6e3-4000-a29c-16317babe31f",
      "metadata": {
        "id": "4136f97a-c6e3-4000-a29c-16317babe31f"
      },
      "outputs": [],
      "source": [
        "%%writefile app.py\n",
        "# This is magic line command\n",
        "# This command is for Notebooks. This command make this cell a python file\n",
        "\n",
        "import streamlit as st\n",
        "import pandas as pd\n",
        "import joblib\n",
        "\n",
        "# --- Caching Functions to Load Files ---\n",
        "@st.cache_data\n",
        "def load_model():\n",
        "    \"\"\"Loads the saved machine learning model.\"\"\"\n",
        "    model = joblib.load('best_model.pkl')\n",
        "    return model\n",
        "\n",
        "@st.cache_data\n",
        "def load_columns():\n",
        "    \"\"\"Loads the list of model columns.\"\"\"\n",
        "    model_cols = joblib.load('model_columns.pkl')\n",
        "    return model_cols\n",
        "\n",
        "@st.cache_data\n",
        "def load_pollen_types():\n",
        "    \"\"\"Loads the unique pollen types for the dropdown.\"\"\"\n",
        "    types = joblib.load('pollen_types.pkl')\n",
        "    return types\n",
        "\n",
        "# --- Load Artifacts ---\n",
        "model = load_model()\n",
        "model_columns = load_columns()\n",
        "pollen_types = load_pollen_types()\n",
        "\n",
        "# --- Page Configuration ---\n",
        "st.set_page_config(\n",
        "    page_title=\"Honey Price Predictor\",\n",
        "    page_icon=\"🍯\",\n",
        "    layout=\"centered\"\n",
        ")\n",
        "\n",
        "# --- UI Elements ---\n",
        "st.title(\"🍯 Honey Price Predictor\")\n",
        "st.write(\"\"\"\n",
        "Enter the characteristics of the honey to get a price prediction.\n",
        "You can directly type the values or use the `+` and `-` buttons.\n",
        "\"\"\")\n",
        "\n",
        "# --- Input Form in Sidebar ---\n",
        "st.sidebar.header(\"Input Honey Features:\")\n",
        "\n",
        "def user_input_features():\n",
        "    \"\"\"Creates sidebar elements and returns user inputs as a DataFrame.\"\"\"\n",
        "    pollen_analysis = st.sidebar.selectbox('Pollen Analysis (Type of Honey)', pollen_types)\n",
        "\n",
        "    # --- All number_input fields now have step=0.01 and format=\"%.2f\" ---\n",
        "    cs = st.sidebar.number_input('Color (CS)', min_value=1.0, max_value=10.0, value=5.50, step=0.01, format=\"%.2f\")\n",
        "    density = st.sidebar.number_input('Density (g/cm³)', min_value=1.21, max_value=1.86, value=1.54, step=0.01, format=\"%.2f\")\n",
        "    wc = st.sidebar.number_input('Water Content (WC %)', min_value=12.0, max_value=25.0, value=18.50, step=0.01, format=\"%.2f\")\n",
        "    ph = st.sidebar.number_input('pH', min_value=2.50, max_value=7.50, value=5.00, step=0.01, format=\"%.2f\")\n",
        "    ec = st.sidebar.number_input('Electrical Conductivity (EC)', min_value=0.70, max_value=0.90, value=0.80, step=0.01, format=\"%.2f\")\n",
        "    f = st.sidebar.number_input('Fructose (F %)', min_value=20.0, max_value=50.0, value=34.97, step=0.01, format=\"%.2f\")\n",
        "    g = st.sidebar.number_input('Glucose (G %)', min_value=20.0, max_value=45.0, value=32.50, step=0.01, format=\"%.2f\")\n",
        "    viscosity = st.sidebar.number_input('Viscosity (mPa·s)', min_value=1500.0, max_value=10000.0, value=5753.0, step=0.01, format=\"%.2f\")\n",
        "    purity = st.sidebar.number_input('Purity (0.0 to 1.0 scale)', min_value=0.61, max_value=1.0, value=0.82, step=0.01, format=\"%.2f\")\n",
        "\n",
        "    data = {\n",
        "        'CS': cs, 'Density': density, 'WC': wc, 'pH': ph, 'EC': ec, 'F': f, 'G': g,\n",
        "        'Viscosity': viscosity, 'Purity': purity, 'Pollen_analysis': pollen_analysis\n",
        "    }\n",
        "    features = pd.DataFrame(data, index=[0])\n",
        "    return features\n",
        "\n",
        "input_df = user_input_features()\n",
        "\n",
        "# Display the user's selected features in the main area\n",
        "st.subheader('Your Input Features')\n",
        "st.dataframe(input_df)\n",
        "\n",
        "# --- Prediction Logic ---\n",
        "if st.sidebar.button('Predict Price'):\n",
        "    # Preprocess the input to match the model's training data\n",
        "    processed_input = pd.get_dummies(input_df, columns=['Pollen_analysis'])\n",
        "\n",
        "    # Align columns with the model's training columns, filling missing with 0\n",
        "    final_input = processed_input.reindex(columns=model_columns, fill_value=0)\n",
        "\n",
        "    # Make prediction\n",
        "    prediction = model.predict(final_input)\n",
        "\n",
        "    # Display prediction\n",
        "    st.subheader('Predicted Price')\n",
        "    st.success(f\"**${prediction[0]:.2f}**\")\n",
        "else:\n",
        "    st.sidebar.info(\"Adjust the values and click 'Predict Price' to see the result.\")"
      ]
    },
    {
      "cell_type": "code",
      "execution_count": null,
      "id": "1a5d7221-2963-4817-b606-e3b829e3656f",
      "metadata": {
        "id": "1a5d7221-2963-4817-b606-e3b829e3656f"
      },
      "outputs": [],
      "source": [
        "!streamlit run app.py"
      ]
    },
    {
      "cell_type": "code",
      "execution_count": null,
      "id": "fff96e91-508a-45e6-be24-412d78998c8e",
      "metadata": {
        "id": "fff96e91-508a-45e6-be24-412d78998c8e",
        "outputId": "2d080c5c-6107-47ba-c64d-0583b5581ef4"
      },
      "outputs": [
        {
          "data": {
            "image/png": "[encoded data removed]",
            "text/plain": [
              "<Figure size 800x600 with 1 Axes>"
            ]
          },
          "metadata": {},
          "output_type": "display_data"
        }
      ],
      "source": [
        "plt.figure(figsize=(8,6))\n",
        "plt.scatter(y_test, y_pred, color='dodgerblue', edgecolor='k')\n",
        "plt.plot([y.min(), y.max()], [y.min(), y.max()], 'r--')\n",
        "plt.xlabel('Actual Price')\n",
        "plt.ylabel('Predicted Price')\n",
        "plt.title('Actual vs Predicted Honey Prices')\n",
        "plt.grid(True)\n",
        "plt.tight_layout()\n",
        "plt.show()\n"
      ]
    },
    {
      "cell_type": "markdown",
      "id": "d0068cbb-3904-40e5-96c2-df6771d8f1b6",
      "metadata": {
        "id": "d0068cbb-3904-40e5-96c2-df6771d8f1b6"
      },
      "source": [
        "**The model shows strong predictive ability overall**\n",
        "**The majority of predictions are close to the actual prices**\n",
        "**Random Forest or Gradient Boosting likely performed well if this is their result"
      ]
    },
    {
      "cell_type": "code",
      "execution_count": null,
      "id": "c6370a05-050b-41be-8504-01df38d55d94",
      "metadata": {
        "id": "c6370a05-050b-41be-8504-01df38d55d94",
        "outputId": "68e5d47f-6f44-4c23-e126-e475946efec2"
      },
      "outputs": [
        {
          "data": {
            "image/png": "[encoded data removed]",
            "text/plain": [
              "<Figure size 800x600 with 1 Axes>"
            ]
          },
          "metadata": {},
          "output_type": "display_data"
        }
      ],
      "source": [
        "residuals = y_test - y_pred\n",
        "plt.figure(figsize=(8,6))\n",
        "sns.histplot(residuals, kde=True, color='coral')\n",
        "plt.title('Distribution of Residuals')\n",
        "plt.xlabel('Residual (Actual - Predicted)')\n",
        "plt.ylabel('Frequency')\n",
        "plt.axvline(0, color='black', linestyle='--')\n",
        "plt.tight_layout()\n",
        "plt.show()"
      ]
    },
    {
      "cell_type": "markdown",
      "id": "84a11684-e517-4b3c-a9b4-671c5d725859",
      "metadata": {
        "id": "84a11684-e517-4b3c-a9b4-671c5d725859"
      },
      "source": [
        "**The plot shows a symmetrical bell-shaped curve, centered around 0.**\n",
        "**This indicates that the model makes no systematic errors.**\n",
        "**Errors are randomly distributed, which means the model doesn’t consistently overpredict or underpredict**"
      ]
    },
    {
      "cell_type": "code",
      "execution_count": null,
      "id": "2a64e125-a44a-496b-9e64-90e4b9484517",
      "metadata": {
        "id": "2a64e125-a44a-496b-9e64-90e4b9484517"
      },
      "outputs": [],
      "source": []
    }
  ],
  "metadata": {
    "kernelspec": {
      "display_name": "Python 3 (ipykernel)",
      "language": "python",
      "name": "python3"
    },
    "language_info": {
      "codemirror_mode": {
        "name": "ipython",
        "version": 3
      },
      "file_extension": ".py",
      "mimetype": "text/x-python",
      "name": "python",
      "nbconvert_exporter": "python",
      "pygments_lexer": "ipython3",
      "version": "3.13.5"
    },
    "colab": {
      "provenance": []
    }
  },
  "nbformat": 4,
  "nbformat_minor": 5
}